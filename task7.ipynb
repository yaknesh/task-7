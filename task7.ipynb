{
  "nbformat": 4,
  "nbformat_minor": 0,
  "metadata": {
    "colab": {
      "name": "task7.ipynb",
      "provenance": [],
      "authorship_tag": "ABX9TyOu29c5C8hGxsfAckvJbGoa",
      "include_colab_link": true
    },
    "kernelspec": {
      "name": "python3",
      "display_name": "Python 3"
    },
    "language_info": {
      "name": "python"
    }
  },
  "cells": [
    {
      "cell_type": "markdown",
      "metadata": {
        "id": "view-in-github",
        "colab_type": "text"
      },
      "source": [
        "<a href=\"https://colab.research.google.com/github/yaknesh/task-7/blob/main/task7.ipynb\" target=\"_parent\"><img src=\"https://colab.research.google.com/assets/colab-badge.svg\" alt=\"Open In Colab\"/></a>"
      ]
    },
    {
      "cell_type": "code",
      "execution_count": null,
      "metadata": {
        "id": "8-Y_ChY1H2uf"
      },
      "outputs": [],
      "source": [
        "import pandas as pd\n",
        "from sklearn.neighbors import KNeighborsClassifier\n",
        "from sklearn.metrics import classification_report\n",
        "from scipy.spatial import distance"
      ]
    },
    {
      "cell_type": "code",
      "source": [
        "# Read train and test sets\n",
        "train = pd.read_csv(\"trainKNN.txt\", header=None)\n",
        "train.columns = ['ID', 'RI', 'Na', 'Mg', 'Al', 'Si', 'K', 'Ca', 'Ba', 'Fe', 'Type of glass']\n",
        "train = train.drop('ID', axis=1) # Drop ID since irrelevant to predictions\n",
        "test = pd.read_csv('testKNN.txt', header=None)\n",
        "test.columns=['ID', 'RI', 'Na', 'Mg', 'Al', 'Si', 'K', 'Ca', 'Ba', 'Fe', 'Type of glass']\n",
        "test = test.drop('ID', axis=1)"
      ],
      "metadata": {
        "id": "whn-NAM9H5fS"
      },
      "execution_count": null,
      "outputs": []
    },
    {
      "cell_type": "code",
      "source": [
        "def standardize (df):\n",
        "    for col in df.columns:\n",
        "        if col != \"Type of glass\": # Don't standardize the categories\n",
        "            df[col] = (df[col] - df[col].mean())/df[col].std()\n",
        "    return df"
      ],
      "metadata": {
        "id": "vg4NTkpjH9cH"
      },
      "execution_count": null,
      "outputs": []
    },
    {
      "cell_type": "code",
      "source": [
        "# Standardize data\n",
        "train = standardize(train)\n",
        "test = standardize(test)\n",
        "train.head()"
      ],
      "metadata": {
        "id": "KCaQ5NyJH_fQ"
      },
      "execution_count": null,
      "outputs": []
    },
    {
      "cell_type": "code",
      "source": [
        "# k = 8 neighbors\n",
        "euclid_model = KNeighborsClassifier(n_neighbors=8, metric=distance.sqeuclidean) # Square Euclidean distance model\n",
        "manhattan_model = KNeighborsClassifier(n_neighbors=8, metric=distance.cityblock) # Manhattan distance model\n",
        "x_train = train.drop([\"Type of glass\"], axis=1)\n",
        "y_train = train[\"Type of glass\"]\n",
        "euclid_model.fit(x_train,y_train) # Train models\n",
        "manhattan_model.fit(x_train, y_train)\n",
        "x_test = test.drop(\"Type of glass\", axis=1) \n",
        "y_test = test[\"Type of glass\"]"
      ],
      "metadata": {
        "id": "moczis0UIBZs"
      },
      "execution_count": null,
      "outputs": []
    },
    {
      "cell_type": "code",
      "source": [
        "# Make predictions\n",
        "manhattan_predictions = manhattan_model.predict(x_test)\n",
        "euclid_predictions = euclid_model.predict(x_test) \n",
        "df = pd.DataFrame({'actual': y_test, 'manhattan': manhattan_predictions, 'euclid': euclid_predictions})\n",
        "df.head()"
      ],
      "metadata": {
        "id": "OsgRFLpUIDFP"
      },
      "execution_count": null,
      "outputs": []
    },
    {
      "cell_type": "code",
      "source": [
        "# Evaluate performance\n",
        "manhattan_count = len(df.loc[df['manhattan'] == df['actual']])\n",
        "euclid_count = len(df.loc[df['euclid'] == df['actual']])\n",
        "print('Manhattan Accuracy: {}%'.format(round(100*manhattan_count/len(df), 2)))\n",
        "print(classification_report(y_test, manhattan_predictions, target_names=df['actual'].astype(str).unique()))\n",
        "print ('\\n')\n",
        "print('Square Euclidean Accuracy: {}%'.format(round(100*euclid_count/len(df), 2)))\n",
        "print(classification_report(y_test, euclid_predictions, target_names=df['actual'].astype(str).unique()))"
      ],
      "metadata": {
        "id": "tldCMBVMIFQf"
      },
      "execution_count": null,
      "outputs": []
    }
  ]
}